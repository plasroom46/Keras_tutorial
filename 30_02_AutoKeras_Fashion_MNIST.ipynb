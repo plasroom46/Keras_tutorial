{
 "cells": [
  {
   "cell_type": "markdown",
   "metadata": {},
   "source": [
    "# AutoKeras Fashion MNIST 辨識"
   ]
  },
  {
   "cell_type": "code",
   "execution_count": 1,
   "metadata": {},
   "outputs": [],
   "source": [
    "import tensorflow as tf\n",
    "mnist = tf.keras.datasets.fashion_mnist\n"
   ]
  },
  {
   "cell_type": "code",
   "execution_count": 2,
   "metadata": {},
   "outputs": [],
   "source": [
    "# 匯入 MNIST 手寫阿拉伯數字 訓練資料\n",
    "(x_train, y_train),(x_test, y_test) = mnist.load_data()\n"
   ]
  },
  {
   "cell_type": "code",
   "execution_count": 3,
   "metadata": {},
   "outputs": [
    {
     "output_type": "stream",
     "name": "stdout",
     "text": [
      "Trial 1 Complete [00h 01m 16s]\n",
      "val_loss: 0.22690019011497498\n",
      "\n",
      "Best val_loss So Far: 0.22690019011497498\n",
      "Total elapsed time: 00h 01m 16s\n",
      "INFO:tensorflow:Oracle triggered exit\n",
      "Epoch 1/10\n",
      "   1/1875 [..............................] - ETA: 0s - loss: 2.2744 - accuracy: 0.1250WARNING:tensorflow:Callbacks method `on_train_batch_end` is slow compared to the batch time (batch time: 0.0000s vs `on_train_batch_end` time: 0.0097s). Check your callbacks.\n",
      "1875/1875 [==============================] - 7s 4ms/step - loss: 0.4196 - accuracy: 0.8492\n",
      "Epoch 2/10\n",
      "1875/1875 [==============================] - 7s 4ms/step - loss: 0.3096 - accuracy: 0.8894\n",
      "Epoch 3/10\n",
      "1875/1875 [==============================] - 7s 4ms/step - loss: 0.2747 - accuracy: 0.9012\n",
      "Epoch 4/10\n",
      "1875/1875 [==============================] - 7s 4ms/step - loss: 0.2556 - accuracy: 0.9071\n",
      "Epoch 5/10\n",
      "1875/1875 [==============================] - 7s 4ms/step - loss: 0.2423 - accuracy: 0.9126\n",
      "Epoch 6/10\n",
      "1875/1875 [==============================] - 7s 4ms/step - loss: 0.2310 - accuracy: 0.9156\n",
      "Epoch 7/10\n",
      "1875/1875 [==============================] - 7s 4ms/step - loss: 0.2203 - accuracy: 0.9195\n",
      "Epoch 8/10\n",
      "1875/1875 [==============================] - 7s 4ms/step - loss: 0.2143 - accuracy: 0.9217\n",
      "Epoch 9/10\n",
      "1875/1875 [==============================] - 7s 4ms/step - loss: 0.2089 - accuracy: 0.9237\n",
      "Epoch 10/10\n",
      "1875/1875 [==============================] - 7s 4ms/step - loss: 0.2026 - accuracy: 0.9249\n",
      "WARNING:tensorflow:From C:\\Users\\Chiawei_Chuang\\Anaconda3\\envs\\tf\\lib\\site-packages\\tensorflow\\python\\training\\tracking\\tracking.py:111: Model.state_updates (from tensorflow.python.keras.engine.training) is deprecated and will be removed in a future version.\n",
      "Instructions for updating:\n",
      "This property should not be used in TensorFlow 2.0, as updates are applied automatically.\n",
      "WARNING:tensorflow:From C:\\Users\\Chiawei_Chuang\\Anaconda3\\envs\\tf\\lib\\site-packages\\tensorflow\\python\\training\\tracking\\tracking.py:111: Layer.updates (from tensorflow.python.keras.engine.base_layer) is deprecated and will be removed in a future version.\n",
      "Instructions for updating:\n",
      "This property should not be used in TensorFlow 2.0, as updates are applied automatically.\n",
      "INFO:tensorflow:Assets written to: .\\image_classifier\\best_model\\assets\n"
     ]
    }
   ],
   "source": [
    "import autokeras as ak\n",
    "\n",
    "# 初始化影像分類器(image classifier)\n",
    "model = ak.ImageClassifier(\n",
    "    overwrite=True,\n",
    "    max_trials=1)\n",
    "# 訓練模型\n",
    "model.fit(x_train, y_train, epochs=10)\n"
   ]
  },
  {
   "cell_type": "code",
   "execution_count": 4,
   "metadata": {},
   "outputs": [
    {
     "output_type": "stream",
     "name": "stdout",
     "text": [
      "313/313 [==============================] - 1s 2ms/step - loss: 0.2267 - accuracy: 0.9185\n",
      "[0.22670388221740723, 0.9185000061988831]\n"
     ]
    }
   ],
   "source": [
    "# 預測\n",
    "predicted_y = model.predict(x_test)\n",
    "\n",
    "# 評估，打分數\n",
    "print(model.evaluate(x_test, y_test))"
   ]
  },
  {
   "cell_type": "code",
   "execution_count": 5,
   "metadata": {},
   "outputs": [
    {
     "output_type": "stream",
     "name": "stdout",
     "text": [
      "prediction: 9 2 1 1 6 1 4 6 5 7 4 5 5 3 4 1 2 4 8 0\nactual    : 9 2 1 1 6 1 4 6 5 7 4 5 7 3 4 1 2 4 8 0\n"
     ]
    }
   ],
   "source": [
    "# 比較 20 筆\n",
    "print('prediction:', ' '.join(predicted_y[0:20].ravel()))\n",
    "print('actual    :', ' '.join(y_test[0:20].astype(str)))\n"
   ]
  },
  {
   "cell_type": "code",
   "execution_count": 6,
   "metadata": {},
   "outputs": [],
   "source": [
    "label_dict = {0: 'T-shirt/top', \n",
    "1:'Trouser',\n",
    "2:'Pullover', \n",
    "3:'Dress', \n",
    "4:'Coat',\n",
    "5:'Sandal', \n",
    "6:'Shirt', \n",
    "7:'Sneaker', \n",
    "8:'Bag', \n",
    "9:'Ankle boot'}"
   ]
  },
  {
   "cell_type": "code",
   "execution_count": 7,
   "metadata": {},
   "outputs": [
    {
     "output_type": "execute_result",
     "data": {
      "text/plain": [
       "    actual      predict\n",
       "0     bag1          Bag\n",
       "1    pant1      Trouser\n",
       "2  Sandal1          Bag\n",
       "3  Sandal2          Bag\n",
       "4   shirt1  T-shirt/top\n",
       "5  t-shirt  T-shirt/top\n",
       "6  Trouser      Trouser"
      ],
      "text/html": "<div>\n<style scoped>\n    .dataframe tbody tr th:only-of-type {\n        vertical-align: middle;\n    }\n\n    .dataframe tbody tr th {\n        vertical-align: top;\n    }\n\n    .dataframe thead th {\n        text-align: right;\n    }\n</style>\n<table border=\"1\" class=\"dataframe\">\n  <thead>\n    <tr style=\"text-align: right;\">\n      <th></th>\n      <th>actual</th>\n      <th>predict</th>\n    </tr>\n  </thead>\n  <tbody>\n    <tr>\n      <th>0</th>\n      <td>bag1</td>\n      <td>Bag</td>\n    </tr>\n    <tr>\n      <th>1</th>\n      <td>pant1</td>\n      <td>Trouser</td>\n    </tr>\n    <tr>\n      <th>2</th>\n      <td>Sandal1</td>\n      <td>Bag</td>\n    </tr>\n    <tr>\n      <th>3</th>\n      <td>Sandal2</td>\n      <td>Bag</td>\n    </tr>\n    <tr>\n      <th>4</th>\n      <td>shirt1</td>\n      <td>T-shirt/top</td>\n    </tr>\n    <tr>\n      <th>5</th>\n      <td>t-shirt</td>\n      <td>T-shirt/top</td>\n    </tr>\n    <tr>\n      <th>6</th>\n      <td>Trouser</td>\n      <td>Trouser</td>\n    </tr>\n  </tbody>\n</table>\n</div>"
     },
     "metadata": {},
     "execution_count": 7
    }
   ],
   "source": [
    "# 使用小畫家，寫0~9，實際測試看看\n",
    "from skimage import io\n",
    "from skimage.transform import resize\n",
    "import numpy as np\n",
    "import pandas as pd\n",
    "import os\n",
    "\n",
    "my_path='./test_data'\n",
    "X_ALL = np.empty((0, 28, 28))\n",
    "actual_labels=[]\n",
    "for i in os.listdir(my_path): \n",
    "    actual_labels.append(i[:-4])\n",
    "    image1 = io.imread(f'{my_path}/{i}', as_gray=True)\n",
    "    #image1 = Image.open(uploaded_file).convert('LA')\n",
    "    image_resized = resize(image1, (28, 28), anti_aliasing=True)    \n",
    "    X1 = image_resized.reshape(1, 28, 28) #/ 255\n",
    "    # 反轉顏色\n",
    "    # 顏色0為白色，與RGB顏色不同，(0,0,0) 為黑色。\n",
    "    # 還原特徵縮放\n",
    "    X1 = (np.abs(1-X1) * 255).astype(int)\n",
    "    X_ALL = np.concatenate([X_ALL, X1])\n",
    "predictions = model.predict(X_ALL)\n",
    "df = pd.DataFrame({'actual': actual_labels, 'predict':[label_dict[k] for k in predictions.ravel().astype(int)]})\n",
    "df                    "
   ]
  },
  {
   "cell_type": "code",
   "execution_count": null,
   "metadata": {},
   "outputs": [],
   "source": []
  }
 ],
 "metadata": {
  "kernelspec": {
   "name": "python3",
   "display_name": "Python 3.8.5 64-bit ('tf': conda)",
   "metadata": {
    "interpreter": {
     "hash": "5e61f42cb8918a69a5fd4699f126ba1b36015307b65c3d7b25dba18894b1b545"
    }
   }
  },
  "language_info": {
   "codemirror_mode": {
    "name": "ipython",
    "version": 3
   },
   "file_extension": ".py",
   "mimetype": "text/x-python",
   "name": "python",
   "nbconvert_exporter": "python",
   "pygments_lexer": "ipython3",
   "version": "3.8.5-final"
  }
 },
 "nbformat": 4,
 "nbformat_minor": 4
}