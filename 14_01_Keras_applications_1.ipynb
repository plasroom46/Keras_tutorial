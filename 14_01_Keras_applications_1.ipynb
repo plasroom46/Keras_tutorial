{
 "cells": [
  {
   "cell_type": "markdown",
   "metadata": {},
   "source": [
    "# 模型完全採用：可辨識ImageNet提供1000種事物的辨識。"
   ]
  },
  {
   "cell_type": "code",
   "execution_count": 1,
   "metadata": {},
   "outputs": [
    {
     "output_type": "stream",
     "name": "stdout",
     "text": [
      "Predicted: [('n02504013', 'Indian_elephant', 0.8239702), ('n02504458', 'African_elephant', 0.11462499), ('n01871265', 'tusker', 0.057447195)]\n"
     ]
    }
   ],
   "source": [
    "from tensorflow.keras.applications.resnet50 import ResNet50\n",
    "from tensorflow.keras.preprocessing import image\n",
    "from tensorflow.keras.applications.resnet50 import preprocess_input, decode_predictions\n",
    "import numpy as np\n",
    "\n",
    "# 預先訓練好的模型 -- ResNet50\n",
    "model = ResNet50(weights='imagenet')\n",
    "\n",
    "# 任意一張圖片，例如大象\n",
    "img_path = './images/elephant.jpg'\n",
    "# 載入圖檔，並縮放寬高為 (224, 224) \n",
    "img = image.load_img(img_path, target_size=(224, 224))\n",
    "# 加一維，變成 (1, 224, 224, 3)，最後一維是色彩\n",
    "x = image.img_to_array(img)\n",
    "x = np.expand_dims(x, axis=0)\n",
    "x = preprocess_input(x)\n",
    "\n",
    "# 預測\n",
    "preds = model.predict(x)\n",
    "# decode the results into a list of tuples (class, description, probability)\n",
    "# (one such list for each sample in the batch)\n",
    "print('Predicted:', decode_predictions(preds, top=3)[0])"
   ]
  },
  {
   "cell_type": "markdown",
   "metadata": {},
   "source": [
    "# 上一張是側面照，這次換正面照"
   ]
  },
  {
   "cell_type": "code",
   "execution_count": 2,
   "metadata": {},
   "outputs": [
    {
     "output_type": "stream",
     "name": "stdout",
     "text": [
      "Predicted: [('n01871265', 'tusker', 0.7784823), ('n02504458', 'African_elephant', 0.17542726), ('n02504013', 'Indian_elephant', 0.046090282)]\n"
     ]
    }
   ],
   "source": [
    "img_path = './images/elephant2.jpg'\n",
    "# 載入圖檔，並縮放寬高為 (224, 224) \n",
    "img = image.load_img(img_path, target_size=(224, 224))\n",
    "# 加一維，變成 (1, 224, 224, 3)，最後一維是色彩\n",
    "x = image.img_to_array(img)\n",
    "x = np.expand_dims(x, axis=0)\n",
    "x = preprocess_input(x)\n",
    "\n",
    "# 預測\n",
    "preds = model.predict(x)\n",
    "# decode the results into a list of tuples (class, description, probability)\n",
    "# (one such list for each sample in the batch)\n",
    "print('Predicted:', decode_predictions(preds, top=3)[0])"
   ]
  },
  {
   "cell_type": "code",
   "execution_count": null,
   "metadata": {},
   "outputs": [],
   "source": []
  }
 ],
 "metadata": {
  "kernelspec": {
   "name": "python3",
   "display_name": "Python 3.8.5 64-bit ('tf': conda)",
   "metadata": {
    "interpreter": {
     "hash": "5e61f42cb8918a69a5fd4699f126ba1b36015307b65c3d7b25dba18894b1b545"
    }
   }
  },
  "language_info": {
   "codemirror_mode": {
    "name": "ipython",
    "version": 3
   },
   "file_extension": ".py",
   "mimetype": "text/x-python",
   "name": "python",
   "nbconvert_exporter": "python",
   "pygments_lexer": "ipython3",
   "version": "3.8.5-final"
  }
 },
 "nbformat": 4,
 "nbformat_minor": 4
}