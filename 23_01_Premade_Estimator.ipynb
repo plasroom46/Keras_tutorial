{
 "cells": [
  {
   "cell_type": "markdown",
   "metadata": {},
   "source": [
    "# Tensorflow 現成的模型(pre-made Estimators)"
   ]
  },
  {
   "source": [
    "### Estimator\n",
    "Tensorflow Estimator 是一個高階的API，它支援以下階段的執行：\n",
    "- 訓練(training)\n",
    "- 評估(evaluation)\n",
    "- 預測(prediction)\n",
    "- 匯出至 Tensorflow serving 模組，準備部署。"
   ],
   "cell_type": "markdown",
   "metadata": {}
  },
  {
   "source": [
    "Estimator 比 Keras 還是有一些優勢如下：\n",
    "\n",
    "- Estimator 提供一些 Keras 還在發展中的功能，例如分散式處理(Parameter server)的訓練、TFX的整合。\n",
    "- 提供一些現成的模型(pre-made Estimators)，包括一般機器學習的模型，例如迴歸、深度學習(DNNClassifier)。\n",
    "\n",
    "TensorFlow Extended (TFX) 架構，串連整個生產流程。\n",
    "![](https://ithelp.ithome.com.tw/upload/images/20200923/20001976Xm0cDiLfJt.png)"
   ],
   "cell_type": "markdown",
   "metadata": {}
  },
  {
   "cell_type": "markdown",
   "metadata": {},
   "source": [
    "## 程式參考來源：\n",
    "- https://www.tensorflow.org/tutorials/estimator/premade\n",
    "- https://www.tensorflow.org/tutorials/estimator/linear\n",
    "- https://www.tensorflow.org/guide/estimator"
   ]
  },
  {
   "cell_type": "markdown",
   "metadata": {},
   "source": [
    "## Iris sample with tf.estimator.DNNClassifier"
   ]
  },
  {
   "cell_type": "code",
   "execution_count": 1,
   "metadata": {},
   "outputs": [],
   "source": [
    "import tensorflow as tf\n",
    "import pandas as pd\n",
    "from sklearn.datasets import load_iris"
   ]
  },
  {
   "cell_type": "markdown",
   "metadata": {},
   "source": [
    "## 讀取 iris 資料集"
   ]
  },
  {
   "cell_type": "code",
   "execution_count": 2,
   "metadata": {},
   "outputs": [],
   "source": [
    "ds = load_iris()"
   ]
  },
  {
   "cell_type": "code",
   "execution_count": 3,
   "metadata": {},
   "outputs": [
    {
     "output_type": "execute_result",
     "data": {
      "text/plain": [
       "   sepal length (cm)  sepal width (cm)  petal length (cm)  petal width (cm)\n",
       "0                5.1               3.5                1.4               0.2\n",
       "1                4.9               3.0                1.4               0.2\n",
       "2                4.7               3.2                1.3               0.2\n",
       "3                4.6               3.1                1.5               0.2\n",
       "4                5.0               3.6                1.4               0.2"
      ],
      "text/html": "<div>\n<style scoped>\n    .dataframe tbody tr th:only-of-type {\n        vertical-align: middle;\n    }\n\n    .dataframe tbody tr th {\n        vertical-align: top;\n    }\n\n    .dataframe thead th {\n        text-align: right;\n    }\n</style>\n<table border=\"1\" class=\"dataframe\">\n  <thead>\n    <tr style=\"text-align: right;\">\n      <th></th>\n      <th>sepal length (cm)</th>\n      <th>sepal width (cm)</th>\n      <th>petal length (cm)</th>\n      <th>petal width (cm)</th>\n    </tr>\n  </thead>\n  <tbody>\n    <tr>\n      <th>0</th>\n      <td>5.1</td>\n      <td>3.5</td>\n      <td>1.4</td>\n      <td>0.2</td>\n    </tr>\n    <tr>\n      <th>1</th>\n      <td>4.9</td>\n      <td>3.0</td>\n      <td>1.4</td>\n      <td>0.2</td>\n    </tr>\n    <tr>\n      <th>2</th>\n      <td>4.7</td>\n      <td>3.2</td>\n      <td>1.3</td>\n      <td>0.2</td>\n    </tr>\n    <tr>\n      <th>3</th>\n      <td>4.6</td>\n      <td>3.1</td>\n      <td>1.5</td>\n      <td>0.2</td>\n    </tr>\n    <tr>\n      <th>4</th>\n      <td>5.0</td>\n      <td>3.6</td>\n      <td>1.4</td>\n      <td>0.2</td>\n    </tr>\n  </tbody>\n</table>\n</div>"
     },
     "metadata": {},
     "execution_count": 3
    }
   ],
   "source": [
    "df = pd.DataFrame(ds.data, columns=ds.feature_names)\n",
    "X = ds.data\n",
    "y = ds.target\n",
    "df.head()"
   ]
  },
  {
   "cell_type": "code",
   "execution_count": 4,
   "metadata": {},
   "outputs": [],
   "source": [
    "# rename\n",
    "CSV_COLUMN_NAMES = ['SepalLength', 'SepalWidth', 'PetalLength', 'PetalWidth'] #, 'Species']\n",
    "SPECIES = ['Setosa', 'Versicolor', 'Virginica']\n",
    "df.columns = CSV_COLUMN_NAMES\n"
   ]
  },
  {
   "cell_type": "code",
   "execution_count": 5,
   "metadata": {},
   "outputs": [
    {
     "output_type": "execute_result",
     "data": {
      "text/plain": [
       "     SepalLength  SepalWidth  PetalLength  PetalWidth\n",
       "113          5.7         2.5          5.0         2.0\n",
       "23           5.1         3.3          1.7         0.5\n",
       "62           6.0         2.2          4.0         1.0\n",
       "58           6.6         2.9          4.6         1.3\n",
       "90           5.5         2.6          4.4         1.2\n",
       "21           5.1         3.7          1.5         0.4\n",
       "8            4.4         2.9          1.4         0.2\n",
       "81           5.5         2.4          3.7         1.0\n",
       "82           5.8         2.7          3.9         1.2\n",
       "129          7.2         3.0          5.8         1.6\n",
       "95           5.7         3.0          4.2         1.2\n",
       "141          6.9         3.1          5.1         2.3\n",
       "19           5.1         3.8          1.5         0.3\n",
       "147          6.5         3.0          5.2         2.0\n",
       "36           5.5         3.5          1.3         0.2\n",
       "68           6.2         2.2          4.5         1.5\n",
       "13           4.3         3.0          1.1         0.1\n",
       "46           5.1         3.8          1.6         0.2\n",
       "91           6.1         3.0          4.6         1.4\n",
       "65           6.7         3.1          4.4         1.4\n",
       "34           4.9         3.1          1.5         0.2\n",
       "42           4.4         3.2          1.3         0.2\n",
       "55           5.7         2.8          4.5         1.3\n",
       "107          7.3         2.9          6.3         1.8\n",
       "140          6.7         3.1          5.6         2.4\n",
       "146          6.3         2.5          5.0         1.9\n",
       "59           5.2         2.7          3.9         1.4\n",
       "5            5.4         3.9          1.7         0.4\n",
       "121          5.6         2.8          4.9         2.0\n",
       "57           4.9         2.4          3.3         1.0\n",
       "..           ...         ...          ...         ...\n",
       "125          7.2         3.2          6.0         1.8\n",
       "72           6.3         2.5          4.9         1.5\n",
       "67           5.8         2.7          4.1         1.0\n",
       "25           5.0         3.0          1.6         0.2\n",
       "66           5.6         3.0          4.5         1.5\n",
       "94           5.6         2.7          4.2         1.3\n",
       "18           5.7         3.8          1.7         0.3\n",
       "96           5.7         2.9          4.2         1.3\n",
       "112          6.8         3.0          5.5         2.1\n",
       "32           5.2         4.1          1.5         0.1\n",
       "41           4.5         2.3          1.3         0.3\n",
       "100          6.3         3.3          6.0         2.5\n",
       "14           5.8         4.0          1.2         0.2\n",
       "139          6.9         3.1          5.4         2.1\n",
       "75           6.6         3.0          4.4         1.4\n",
       "73           6.1         2.8          4.7         1.2\n",
       "132          6.4         2.8          5.6         2.2\n",
       "83           6.0         2.7          5.1         1.6\n",
       "118          7.7         2.6          6.9         2.3\n",
       "124          6.7         3.3          5.7         2.1\n",
       "71           6.1         2.8          4.0         1.3\n",
       "29           4.7         3.2          1.6         0.2\n",
       "111          6.4         2.7          5.3         1.9\n",
       "20           5.4         3.4          1.7         0.2\n",
       "98           5.1         2.5          3.0         1.1\n",
       "40           5.0         3.5          1.3         0.3\n",
       "28           5.2         3.4          1.4         0.2\n",
       "79           5.7         2.6          3.5         1.0\n",
       "93           5.0         2.3          3.3         1.0\n",
       "84           5.4         3.0          4.5         1.5\n",
       "\n",
       "[120 rows x 4 columns]"
      ],
      "text/html": "<div>\n<style scoped>\n    .dataframe tbody tr th:only-of-type {\n        vertical-align: middle;\n    }\n\n    .dataframe tbody tr th {\n        vertical-align: top;\n    }\n\n    .dataframe thead th {\n        text-align: right;\n    }\n</style>\n<table border=\"1\" class=\"dataframe\">\n  <thead>\n    <tr style=\"text-align: right;\">\n      <th></th>\n      <th>SepalLength</th>\n      <th>SepalWidth</th>\n      <th>PetalLength</th>\n      <th>PetalWidth</th>\n    </tr>\n  </thead>\n  <tbody>\n    <tr>\n      <th>113</th>\n      <td>5.7</td>\n      <td>2.5</td>\n      <td>5.0</td>\n      <td>2.0</td>\n    </tr>\n    <tr>\n      <th>23</th>\n      <td>5.1</td>\n      <td>3.3</td>\n      <td>1.7</td>\n      <td>0.5</td>\n    </tr>\n    <tr>\n      <th>62</th>\n      <td>6.0</td>\n      <td>2.2</td>\n      <td>4.0</td>\n      <td>1.0</td>\n    </tr>\n    <tr>\n      <th>58</th>\n      <td>6.6</td>\n      <td>2.9</td>\n      <td>4.6</td>\n      <td>1.3</td>\n    </tr>\n    <tr>\n      <th>90</th>\n      <td>5.5</td>\n      <td>2.6</td>\n      <td>4.4</td>\n      <td>1.2</td>\n    </tr>\n    <tr>\n      <th>21</th>\n      <td>5.1</td>\n      <td>3.7</td>\n      <td>1.5</td>\n      <td>0.4</td>\n    </tr>\n    <tr>\n      <th>8</th>\n      <td>4.4</td>\n      <td>2.9</td>\n      <td>1.4</td>\n      <td>0.2</td>\n    </tr>\n    <tr>\n      <th>81</th>\n      <td>5.5</td>\n      <td>2.4</td>\n      <td>3.7</td>\n      <td>1.0</td>\n    </tr>\n    <tr>\n      <th>82</th>\n      <td>5.8</td>\n      <td>2.7</td>\n      <td>3.9</td>\n      <td>1.2</td>\n    </tr>\n    <tr>\n      <th>129</th>\n      <td>7.2</td>\n      <td>3.0</td>\n      <td>5.8</td>\n      <td>1.6</td>\n    </tr>\n    <tr>\n      <th>95</th>\n      <td>5.7</td>\n      <td>3.0</td>\n      <td>4.2</td>\n      <td>1.2</td>\n    </tr>\n    <tr>\n      <th>141</th>\n      <td>6.9</td>\n      <td>3.1</td>\n      <td>5.1</td>\n      <td>2.3</td>\n    </tr>\n    <tr>\n      <th>19</th>\n      <td>5.1</td>\n      <td>3.8</td>\n      <td>1.5</td>\n      <td>0.3</td>\n    </tr>\n    <tr>\n      <th>147</th>\n      <td>6.5</td>\n      <td>3.0</td>\n      <td>5.2</td>\n      <td>2.0</td>\n    </tr>\n    <tr>\n      <th>36</th>\n      <td>5.5</td>\n      <td>3.5</td>\n      <td>1.3</td>\n      <td>0.2</td>\n    </tr>\n    <tr>\n      <th>68</th>\n      <td>6.2</td>\n      <td>2.2</td>\n      <td>4.5</td>\n      <td>1.5</td>\n    </tr>\n    <tr>\n      <th>13</th>\n      <td>4.3</td>\n      <td>3.0</td>\n      <td>1.1</td>\n      <td>0.1</td>\n    </tr>\n    <tr>\n      <th>46</th>\n      <td>5.1</td>\n      <td>3.8</td>\n      <td>1.6</td>\n      <td>0.2</td>\n    </tr>\n    <tr>\n      <th>91</th>\n      <td>6.1</td>\n      <td>3.0</td>\n      <td>4.6</td>\n      <td>1.4</td>\n    </tr>\n    <tr>\n      <th>65</th>\n      <td>6.7</td>\n      <td>3.1</td>\n      <td>4.4</td>\n      <td>1.4</td>\n    </tr>\n    <tr>\n      <th>34</th>\n      <td>4.9</td>\n      <td>3.1</td>\n      <td>1.5</td>\n      <td>0.2</td>\n    </tr>\n    <tr>\n      <th>42</th>\n      <td>4.4</td>\n      <td>3.2</td>\n      <td>1.3</td>\n      <td>0.2</td>\n    </tr>\n    <tr>\n      <th>55</th>\n      <td>5.7</td>\n      <td>2.8</td>\n      <td>4.5</td>\n      <td>1.3</td>\n    </tr>\n    <tr>\n      <th>107</th>\n      <td>7.3</td>\n      <td>2.9</td>\n      <td>6.3</td>\n      <td>1.8</td>\n    </tr>\n    <tr>\n      <th>140</th>\n      <td>6.7</td>\n      <td>3.1</td>\n      <td>5.6</td>\n      <td>2.4</td>\n    </tr>\n    <tr>\n      <th>146</th>\n      <td>6.3</td>\n      <td>2.5</td>\n      <td>5.0</td>\n      <td>1.9</td>\n    </tr>\n    <tr>\n      <th>59</th>\n      <td>5.2</td>\n      <td>2.7</td>\n      <td>3.9</td>\n      <td>1.4</td>\n    </tr>\n    <tr>\n      <th>5</th>\n      <td>5.4</td>\n      <td>3.9</td>\n      <td>1.7</td>\n      <td>0.4</td>\n    </tr>\n    <tr>\n      <th>121</th>\n      <td>5.6</td>\n      <td>2.8</td>\n      <td>4.9</td>\n      <td>2.0</td>\n    </tr>\n    <tr>\n      <th>57</th>\n      <td>4.9</td>\n      <td>2.4</td>\n      <td>3.3</td>\n      <td>1.0</td>\n    </tr>\n    <tr>\n      <th>...</th>\n      <td>...</td>\n      <td>...</td>\n      <td>...</td>\n      <td>...</td>\n    </tr>\n    <tr>\n      <th>125</th>\n      <td>7.2</td>\n      <td>3.2</td>\n      <td>6.0</td>\n      <td>1.8</td>\n    </tr>\n    <tr>\n      <th>72</th>\n      <td>6.3</td>\n      <td>2.5</td>\n      <td>4.9</td>\n      <td>1.5</td>\n    </tr>\n    <tr>\n      <th>67</th>\n      <td>5.8</td>\n      <td>2.7</td>\n      <td>4.1</td>\n      <td>1.0</td>\n    </tr>\n    <tr>\n      <th>25</th>\n      <td>5.0</td>\n      <td>3.0</td>\n      <td>1.6</td>\n      <td>0.2</td>\n    </tr>\n    <tr>\n      <th>66</th>\n      <td>5.6</td>\n      <td>3.0</td>\n      <td>4.5</td>\n      <td>1.5</td>\n    </tr>\n    <tr>\n      <th>94</th>\n      <td>5.6</td>\n      <td>2.7</td>\n      <td>4.2</td>\n      <td>1.3</td>\n    </tr>\n    <tr>\n      <th>18</th>\n      <td>5.7</td>\n      <td>3.8</td>\n      <td>1.7</td>\n      <td>0.3</td>\n    </tr>\n    <tr>\n      <th>96</th>\n      <td>5.7</td>\n      <td>2.9</td>\n      <td>4.2</td>\n      <td>1.3</td>\n    </tr>\n    <tr>\n      <th>112</th>\n      <td>6.8</td>\n      <td>3.0</td>\n      <td>5.5</td>\n      <td>2.1</td>\n    </tr>\n    <tr>\n      <th>32</th>\n      <td>5.2</td>\n      <td>4.1</td>\n      <td>1.5</td>\n      <td>0.1</td>\n    </tr>\n    <tr>\n      <th>41</th>\n      <td>4.5</td>\n      <td>2.3</td>\n      <td>1.3</td>\n      <td>0.3</td>\n    </tr>\n    <tr>\n      <th>100</th>\n      <td>6.3</td>\n      <td>3.3</td>\n      <td>6.0</td>\n      <td>2.5</td>\n    </tr>\n    <tr>\n      <th>14</th>\n      <td>5.8</td>\n      <td>4.0</td>\n      <td>1.2</td>\n      <td>0.2</td>\n    </tr>\n    <tr>\n      <th>139</th>\n      <td>6.9</td>\n      <td>3.1</td>\n      <td>5.4</td>\n      <td>2.1</td>\n    </tr>\n    <tr>\n      <th>75</th>\n      <td>6.6</td>\n      <td>3.0</td>\n      <td>4.4</td>\n      <td>1.4</td>\n    </tr>\n    <tr>\n      <th>73</th>\n      <td>6.1</td>\n      <td>2.8</td>\n      <td>4.7</td>\n      <td>1.2</td>\n    </tr>\n    <tr>\n      <th>132</th>\n      <td>6.4</td>\n      <td>2.8</td>\n      <td>5.6</td>\n      <td>2.2</td>\n    </tr>\n    <tr>\n      <th>83</th>\n      <td>6.0</td>\n      <td>2.7</td>\n      <td>5.1</td>\n      <td>1.6</td>\n    </tr>\n    <tr>\n      <th>118</th>\n      <td>7.7</td>\n      <td>2.6</td>\n      <td>6.9</td>\n      <td>2.3</td>\n    </tr>\n    <tr>\n      <th>124</th>\n      <td>6.7</td>\n      <td>3.3</td>\n      <td>5.7</td>\n      <td>2.1</td>\n    </tr>\n    <tr>\n      <th>71</th>\n      <td>6.1</td>\n      <td>2.8</td>\n      <td>4.0</td>\n      <td>1.3</td>\n    </tr>\n    <tr>\n      <th>29</th>\n      <td>4.7</td>\n      <td>3.2</td>\n      <td>1.6</td>\n      <td>0.2</td>\n    </tr>\n    <tr>\n      <th>111</th>\n      <td>6.4</td>\n      <td>2.7</td>\n      <td>5.3</td>\n      <td>1.9</td>\n    </tr>\n    <tr>\n      <th>20</th>\n      <td>5.4</td>\n      <td>3.4</td>\n      <td>1.7</td>\n      <td>0.2</td>\n    </tr>\n    <tr>\n      <th>98</th>\n      <td>5.1</td>\n      <td>2.5</td>\n      <td>3.0</td>\n      <td>1.1</td>\n    </tr>\n    <tr>\n      <th>40</th>\n      <td>5.0</td>\n      <td>3.5</td>\n      <td>1.3</td>\n      <td>0.3</td>\n    </tr>\n    <tr>\n      <th>28</th>\n      <td>5.2</td>\n      <td>3.4</td>\n      <td>1.4</td>\n      <td>0.2</td>\n    </tr>\n    <tr>\n      <th>79</th>\n      <td>5.7</td>\n      <td>2.6</td>\n      <td>3.5</td>\n      <td>1.0</td>\n    </tr>\n    <tr>\n      <th>93</th>\n      <td>5.0</td>\n      <td>2.3</td>\n      <td>3.3</td>\n      <td>1.0</td>\n    </tr>\n    <tr>\n      <th>84</th>\n      <td>5.4</td>\n      <td>3.0</td>\n      <td>4.5</td>\n      <td>1.5</td>\n    </tr>\n  </tbody>\n</table>\n<p>120 rows × 4 columns</p>\n</div>"
     },
     "metadata": {},
     "execution_count": 5
    }
   ],
   "source": [
    "# 切割為訓練資料及驗證資料\n",
    "from sklearn.model_selection import train_test_split\n",
    "X_train, X_test, y_train, y_test = train_test_split(df, y, test_size=0.2)\n",
    "X_train"
   ]
  },
  {
   "cell_type": "markdown",
   "metadata": {},
   "source": [
    "## 建立 Estimator"
   ]
  },
  {
   "cell_type": "code",
   "execution_count": 6,
   "metadata": {},
   "outputs": [],
   "source": [
    "# 建立 Estimator input function\n",
    "def input_fn(features, labels, training=True, batch_size=256):\n",
    "    \"\"\"An input function for training or evaluating\"\"\"\n",
    "    # 將 NumPy Array 轉成 Dataset.\n",
    "    dataset = tf.data.Dataset.from_tensor_slices((dict(features), labels))\n",
    "\n",
    "    # 隨機抽樣\n",
    "    # Shuffle and repeat if you are in training mode.\n",
    "    if training:\n",
    "        dataset = dataset.shuffle(1000).repeat()\n",
    "    \n",
    "    return dataset.batch(batch_size)"
   ]
  },
  {
   "cell_type": "code",
   "execution_count": 7,
   "metadata": {},
   "outputs": [
    {
     "output_type": "execute_result",
     "data": {
      "text/plain": [
       "[NumericColumn(key='SepalLength', shape=(1,), default_value=None, dtype=tf.float32, normalizer_fn=None),\n",
       " NumericColumn(key='SepalWidth', shape=(1,), default_value=None, dtype=tf.float32, normalizer_fn=None),\n",
       " NumericColumn(key='PetalLength', shape=(1,), default_value=None, dtype=tf.float32, normalizer_fn=None),\n",
       " NumericColumn(key='PetalWidth', shape=(1,), default_value=None, dtype=tf.float32, normalizer_fn=None)]"
      ]
     },
     "metadata": {},
     "execution_count": 7
    }
   ],
   "source": [
    "# 建立 Feature columns 提供給 Estimator 使用\n",
    "my_feature_columns = []\n",
    "for key in X_train.keys():\n",
    "    my_feature_columns.append(tf.feature_column.numeric_column(key=key))\n",
    "my_feature_columns"
   ]
  },
  {
   "cell_type": "code",
   "execution_count": 8,
   "metadata": {},
   "outputs": [
    {
     "output_type": "stream",
     "name": "stdout",
     "text": [
      "INFO:tensorflow:Using default config.\n",
      "WARNING:tensorflow:Using temporary folder as model directory: C:\\Users\\CHIAWE~1\\AppData\\Local\\Temp\\tmp9vvuba2u\n",
      "INFO:tensorflow:Using config: {'_model_dir': 'C:\\\\Users\\\\CHIAWE~1\\\\AppData\\\\Local\\\\Temp\\\\tmp9vvuba2u', '_tf_random_seed': None, '_save_summary_steps': 100, '_save_checkpoints_steps': None, '_save_checkpoints_secs': 600, '_session_config': allow_soft_placement: true\n",
      "graph_options {\n",
      "  rewrite_options {\n",
      "    meta_optimizer_iterations: ONE\n",
      "  }\n",
      "}\n",
      ", '_keep_checkpoint_max': 5, '_keep_checkpoint_every_n_hours': 10000, '_log_step_count_steps': 100, '_train_distribute': None, '_device_fn': None, '_protocol': None, '_eval_distribute': None, '_experimental_distribute': None, '_experimental_max_worker_delay_secs': None, '_session_creation_timeout_secs': 7200, '_service': None, '_cluster_spec': ClusterSpec({}), '_task_type': 'worker', '_task_id': 0, '_global_id_in_cluster': 0, '_master': '', '_evaluation_master': '', '_is_chief': True, '_num_ps_replicas': 0, '_num_worker_replicas': 1}\n"
     ]
    }
   ],
   "source": [
    "# 建立兩層的深度神經網路(DNN with 2 hidden layers with 30 and 10 hidden nodes each)\n",
    "classifier = tf.estimator.DNNClassifier(\n",
    "    feature_columns=my_feature_columns,\n",
    "    # Two hidden layers of 30 and 10 nodes respectively.\n",
    "    hidden_units=[30, 10],\n",
    "    # The model must choose between 3 classes.\n",
    "    n_classes=3)"
   ]
  },
  {
   "cell_type": "markdown",
   "metadata": {},
   "source": [
    "## 模型訓練"
   ]
  },
  {
   "cell_type": "code",
   "execution_count": 9,
   "metadata": {},
   "outputs": [
    {
     "output_type": "stream",
     "name": "stdout",
     "text": [
      "WARNING:tensorflow:From C:\\Users\\Chiawei_Chuang\\Anaconda3\\envs\\tf\\lib\\site-packages\\tensorflow\\python\\training\\training_util.py:235: Variable.initialized_value (from tensorflow.python.ops.variables) is deprecated and will be removed in a future version.\n",
      "Instructions for updating:\n",
      "Use Variable.read_value. Variables in 2.X are initialized automatically both in eager and graph (inside tf.defun) contexts.\n",
      "INFO:tensorflow:Calling model_fn.\n",
      "WARNING:tensorflow:Layer dnn is casting an input tensor from dtype float64 to the layer's dtype of float32, which is new behavior in TensorFlow 2.  The layer has dtype float32 because its dtype defaults to floatx.\n",
      "\n",
      "If you intended to run this layer in float32, you can safely ignore this warning. If in doubt, this warning is likely only an issue if you are porting a TensorFlow 1.X model to TensorFlow 2.\n",
      "\n",
      "To change all layers to have dtype float64 by default, call `tf.keras.backend.set_floatx('float64')`. To change just this layer, pass dtype='float64' to the layer constructor. If you are the author of this layer, you can disable autocasting by passing autocast=False to the base Layer constructor.\n",
      "\n",
      "WARNING:tensorflow:From C:\\Users\\Chiawei_Chuang\\Anaconda3\\envs\\tf\\lib\\site-packages\\tensorflow\\python\\keras\\optimizer_v2\\adagrad.py:82: calling Constant.__init__ (from tensorflow.python.ops.init_ops) with dtype is deprecated and will be removed in a future version.\n",
      "Instructions for updating:\n",
      "Call initializer instance with the dtype argument instead of passing it to the constructor\n",
      "INFO:tensorflow:Done calling model_fn.\n",
      "INFO:tensorflow:Create CheckpointSaverHook.\n",
      "INFO:tensorflow:Graph was finalized.\n",
      "INFO:tensorflow:Running local_init_op.\n",
      "INFO:tensorflow:Done running local_init_op.\n",
      "INFO:tensorflow:Calling checkpoint listeners before saving checkpoint 0...\n",
      "INFO:tensorflow:Saving checkpoints for 0 into C:\\Users\\CHIAWE~1\\AppData\\Local\\Temp\\tmp9vvuba2u\\model.ckpt.\n",
      "INFO:tensorflow:Calling checkpoint listeners after saving checkpoint 0...\n",
      "INFO:tensorflow:loss = 1.8566482, step = 0\n",
      "INFO:tensorflow:global_step/sec: 342.208\n",
      "INFO:tensorflow:loss = 1.2379456, step = 100 (0.293 sec)\n",
      "INFO:tensorflow:global_step/sec: 388.634\n",
      "INFO:tensorflow:loss = 1.0993154, step = 200 (0.257 sec)\n",
      "INFO:tensorflow:global_step/sec: 381.245\n",
      "INFO:tensorflow:loss = 1.041618, step = 300 (0.262 sec)\n",
      "INFO:tensorflow:global_step/sec: 390.136\n",
      "INFO:tensorflow:loss = 1.0086582, step = 400 (0.257 sec)\n",
      "INFO:tensorflow:global_step/sec: 374.14\n",
      "INFO:tensorflow:loss = 0.98577267, step = 500 (0.267 sec)\n",
      "INFO:tensorflow:global_step/sec: 379.801\n",
      "INFO:tensorflow:loss = 0.9613083, step = 600 (0.262 sec)\n",
      "INFO:tensorflow:global_step/sec: 387.132\n",
      "INFO:tensorflow:loss = 0.9409481, step = 700 (0.258 sec)\n",
      "INFO:tensorflow:global_step/sec: 387.133\n",
      "INFO:tensorflow:loss = 0.92545545, step = 800 (0.259 sec)\n",
      "INFO:tensorflow:global_step/sec: 382.701\n",
      "INFO:tensorflow:loss = 0.90575975, step = 900 (0.260 sec)\n",
      "INFO:tensorflow:global_step/sec: 388.635\n",
      "INFO:tensorflow:loss = 0.88830334, step = 1000 (0.258 sec)\n",
      "INFO:tensorflow:global_step/sec: 379.799\n",
      "INFO:tensorflow:loss = 0.8751353, step = 1100 (0.262 sec)\n",
      "INFO:tensorflow:global_step/sec: 376.947\n",
      "INFO:tensorflow:loss = 0.8639931, step = 1200 (0.265 sec)\n",
      "INFO:tensorflow:global_step/sec: 387.131\n",
      "INFO:tensorflow:loss = 0.84476054, step = 1300 (0.259 sec)\n",
      "INFO:tensorflow:global_step/sec: 381.245\n",
      "INFO:tensorflow:loss = 0.83188796, step = 1400 (0.261 sec)\n",
      "INFO:tensorflow:global_step/sec: 385.644\n",
      "INFO:tensorflow:loss = 0.8217591, step = 1500 (0.259 sec)\n",
      "INFO:tensorflow:global_step/sec: 379.798\n",
      "INFO:tensorflow:loss = 0.81378424, step = 1600 (0.263 sec)\n",
      "INFO:tensorflow:global_step/sec: 394.756\n",
      "INFO:tensorflow:loss = 0.794536, step = 1700 (0.253 sec)\n",
      "INFO:tensorflow:global_step/sec: 390.145\n",
      "INFO:tensorflow:loss = 0.7845451, step = 1800 (0.257 sec)\n",
      "INFO:tensorflow:global_step/sec: 383.418\n",
      "INFO:tensorflow:loss = 0.76835066, step = 1900 (0.261 sec)\n",
      "INFO:tensorflow:global_step/sec: 390.145\n",
      "INFO:tensorflow:loss = 0.7720231, step = 2000 (0.256 sec)\n",
      "INFO:tensorflow:global_step/sec: 378.367\n",
      "INFO:tensorflow:loss = 0.7530817, step = 2100 (0.263 sec)\n",
      "INFO:tensorflow:global_step/sec: 386.842\n",
      "INFO:tensorflow:loss = 0.74043274, step = 2200 (0.260 sec)\n",
      "INFO:tensorflow:global_step/sec: 390.145\n",
      "INFO:tensorflow:loss = 0.7374144, step = 2300 (0.256 sec)\n",
      "INFO:tensorflow:global_step/sec: 378.368\n",
      "INFO:tensorflow:loss = 0.7217036, step = 2400 (0.263 sec)\n",
      "INFO:tensorflow:global_step/sec: 388.635\n",
      "INFO:tensorflow:loss = 0.714929, step = 2500 (0.257 sec)\n",
      "INFO:tensorflow:global_step/sec: 381.956\n",
      "INFO:tensorflow:loss = 0.6989255, step = 2600 (0.262 sec)\n",
      "INFO:tensorflow:global_step/sec: 388.633\n",
      "INFO:tensorflow:loss = 0.69236964, step = 2700 (0.257 sec)\n",
      "INFO:tensorflow:global_step/sec: 387.132\n",
      "INFO:tensorflow:loss = 0.6820771, step = 2800 (0.259 sec)\n",
      "INFO:tensorflow:global_step/sec: 387.134\n",
      "INFO:tensorflow:loss = 0.6804443, step = 2900 (0.257 sec)\n",
      "INFO:tensorflow:global_step/sec: 372.74\n",
      "INFO:tensorflow:loss = 0.66631126, step = 3000 (0.271 sec)\n",
      "INFO:tensorflow:global_step/sec: 369.991\n",
      "INFO:tensorflow:loss = 0.66191053, step = 3100 (0.267 sec)\n",
      "INFO:tensorflow:global_step/sec: 371.361\n",
      "INFO:tensorflow:loss = 0.6489178, step = 3200 (0.269 sec)\n",
      "INFO:tensorflow:global_step/sec: 355.559\n",
      "INFO:tensorflow:loss = 0.6457871, step = 3300 (0.282 sec)\n",
      "INFO:tensorflow:global_step/sec: 384.16\n",
      "INFO:tensorflow:loss = 0.63720727, step = 3400 (0.259 sec)\n",
      "INFO:tensorflow:global_step/sec: 379.807\n",
      "INFO:tensorflow:loss = 0.6321616, step = 3500 (0.263 sec)\n",
      "INFO:tensorflow:global_step/sec: 382.699\n",
      "INFO:tensorflow:loss = 0.6200943, step = 3600 (0.262 sec)\n",
      "INFO:tensorflow:global_step/sec: 374.133\n",
      "INFO:tensorflow:loss = 0.61404026, step = 3700 (0.266 sec)\n",
      "INFO:tensorflow:global_step/sec: 356.822\n",
      "INFO:tensorflow:loss = 0.6151643, step = 3800 (0.281 sec)\n",
      "INFO:tensorflow:global_step/sec: 382.701\n",
      "INFO:tensorflow:loss = 0.60533553, step = 3900 (0.260 sec)\n",
      "INFO:tensorflow:global_step/sec: 379.8\n",
      "INFO:tensorflow:loss = 0.5877807, step = 4000 (0.263 sec)\n",
      "INFO:tensorflow:global_step/sec: 385.643\n",
      "INFO:tensorflow:loss = 0.58709705, step = 4100 (0.259 sec)\n",
      "INFO:tensorflow:global_step/sec: 379.8\n",
      "INFO:tensorflow:loss = 0.5909347, step = 4200 (0.264 sec)\n",
      "INFO:tensorflow:global_step/sec: 379.747\n",
      "INFO:tensorflow:loss = 0.58493584, step = 4300 (0.262 sec)\n",
      "INFO:tensorflow:global_step/sec: 387.129\n",
      "INFO:tensorflow:loss = 0.57675636, step = 4400 (0.258 sec)\n",
      "INFO:tensorflow:global_step/sec: 385.956\n",
      "INFO:tensorflow:loss = 0.57337594, step = 4500 (0.260 sec)\n",
      "INFO:tensorflow:global_step/sec: 380.514\n",
      "INFO:tensorflow:loss = 0.56727785, step = 4600 (0.262 sec)\n",
      "INFO:tensorflow:global_step/sec: 384.168\n",
      "INFO:tensorflow:loss = 0.5605432, step = 4700 (0.260 sec)\n",
      "INFO:tensorflow:global_step/sec: 392.422\n",
      "INFO:tensorflow:loss = 0.55110574, step = 4800 (0.256 sec)\n",
      "INFO:tensorflow:global_step/sec: 388.634\n",
      "INFO:tensorflow:loss = 0.5577102, step = 4900 (0.257 sec)\n",
      "INFO:tensorflow:Calling checkpoint listeners before saving checkpoint 5000...\n",
      "INFO:tensorflow:Saving checkpoints for 5000 into C:\\Users\\CHIAWE~1\\AppData\\Local\\Temp\\tmp9vvuba2u\\model.ckpt.\n",
      "INFO:tensorflow:Calling checkpoint listeners after saving checkpoint 5000...\n",
      "INFO:tensorflow:Loss for final step: 0.53326786.\n"
     ]
    },
    {
     "output_type": "execute_result",
     "data": {
      "text/plain": [
       "<tensorflow_estimator.python.estimator.canned.dnn.DNNClassifierV2 at 0x1987b1cb1f0>"
      ]
     },
     "metadata": {},
     "execution_count": 9
    }
   ],
   "source": [
    "classifier.train(\n",
    "    input_fn=lambda: input_fn(X_train, y_train, training=True),\n",
    "    steps=5000)"
   ]
  },
  {
   "cell_type": "markdown",
   "metadata": {},
   "source": [
    "## 模型評估"
   ]
  },
  {
   "cell_type": "code",
   "execution_count": 10,
   "metadata": {
    "scrolled": true
   },
   "outputs": [
    {
     "output_type": "stream",
     "name": "stdout",
     "text": [
      "INFO:tensorflow:Calling model_fn.\n",
      "WARNING:tensorflow:Layer dnn is casting an input tensor from dtype float64 to the layer's dtype of float32, which is new behavior in TensorFlow 2.  The layer has dtype float32 because its dtype defaults to floatx.\n",
      "\n",
      "If you intended to run this layer in float32, you can safely ignore this warning. If in doubt, this warning is likely only an issue if you are porting a TensorFlow 1.X model to TensorFlow 2.\n",
      "\n",
      "To change all layers to have dtype float64 by default, call `tf.keras.backend.set_floatx('float64')`. To change just this layer, pass dtype='float64' to the layer constructor. If you are the author of this layer, you can disable autocasting by passing autocast=False to the base Layer constructor.\n",
      "\n",
      "INFO:tensorflow:Done calling model_fn.\n",
      "INFO:tensorflow:Starting evaluation at 2021-01-27T11:19:21Z\n",
      "INFO:tensorflow:Graph was finalized.\n",
      "INFO:tensorflow:Restoring parameters from C:\\Users\\CHIAWE~1\\AppData\\Local\\Temp\\tmp9vvuba2u\\model.ckpt-5000\n",
      "INFO:tensorflow:Running local_init_op.\n",
      "INFO:tensorflow:Done running local_init_op.\n",
      "INFO:tensorflow:Inference Time : 0.27528s\n",
      "INFO:tensorflow:Finished evaluation at 2021-01-27-11:19:21\n",
      "INFO:tensorflow:Saving dict for global step 5000: accuracy = 0.9, average_loss = 0.48613107, global_step = 5000, loss = 0.48613107\n",
      "INFO:tensorflow:Saving 'checkpoint_path' summary for global step 5000: C:\\Users\\CHIAWE~1\\AppData\\Local\\Temp\\tmp9vvuba2u\\model.ckpt-5000\n",
      "\n",
      "準確度: 0.900\n",
      "\n"
     ]
    }
   ],
   "source": [
    "eval_result = classifier.evaluate(\n",
    "    input_fn=lambda: input_fn(X_test, y_test, training=False))\n",
    "\n",
    "print('\\n準確度: {accuracy:0.3f}\\n'.format(**eval_result))"
   ]
  },
  {
   "cell_type": "markdown",
   "metadata": {},
   "source": [
    "## 預測"
   ]
  },
  {
   "cell_type": "code",
   "execution_count": 11,
   "metadata": {},
   "outputs": [
    {
     "output_type": "stream",
     "name": "stdout",
     "text": [
      "INFO:tensorflow:Calling model_fn.\n",
      "INFO:tensorflow:Done calling model_fn.\n",
      "INFO:tensorflow:Graph was finalized.\n",
      "INFO:tensorflow:Restoring parameters from C:\\Users\\CHIAWE~1\\AppData\\Local\\Temp\\tmp9vvuba2u\\model.ckpt-5000\n",
      "INFO:tensorflow:Running local_init_op.\n",
      "INFO:tensorflow:Done running local_init_op.\n",
      "Prediction is \"Setosa\" (69.2%), expected \"Setosa\"\n",
      "Prediction is \"Versicolor\" (44.9%), expected \"Versicolor\"\n",
      "Prediction is \"Virginica\" (57.1%), expected \"Virginica\"\n"
     ]
    }
   ],
   "source": [
    "# 預測資料\n",
    "expected = ['Setosa', 'Versicolor', 'Virginica']\n",
    "predict_x = {\n",
    "    'SepalLength': [5.1, 5.9, 6.9],\n",
    "    'SepalWidth': [3.3, 3.0, 3.1],\n",
    "    'PetalLength': [1.7, 4.2, 5.4],\n",
    "    'PetalWidth': [0.5, 1.5, 2.1],\n",
    "}\n",
    "\n",
    "# 預測使用的 Input function\n",
    "def input_fn_pred(features, batch_size=256):\n",
    "    \"\"\"An input function for prediction.\"\"\"\n",
    "    # Convert the inputs to a Dataset without labels.\n",
    "    return tf.data.Dataset.from_tensor_slices(dict(features)).batch(batch_size)\n",
    "\n",
    "# 預測\n",
    "predictions = classifier.predict(\n",
    "    input_fn=lambda: input_fn_pred(predict_x))\n",
    "\n",
    "# 顯示預測結果\n",
    "for pred_dict, expec in zip(predictions, expected):\n",
    "    class_id = pred_dict['class_ids'][0]\n",
    "    probability = pred_dict['probabilities'][class_id]\n",
    "\n",
    "    print('Prediction is \"{}\" ({:.1f}%), expected \"{}\"'.format(\n",
    "        SPECIES[class_id], 100 * probability, expec))"
   ]
  },
  {
   "cell_type": "code",
   "execution_count": null,
   "metadata": {},
   "outputs": [],
   "source": []
  }
 ],
 "metadata": {
  "kernelspec": {
   "name": "python3",
   "display_name": "Python 3.8.5 64-bit ('tf': conda)",
   "metadata": {
    "interpreter": {
     "hash": "5e61f42cb8918a69a5fd4699f126ba1b36015307b65c3d7b25dba18894b1b545"
    }
   }
  },
  "language_info": {
   "codemirror_mode": {
    "name": "ipython",
    "version": 3
   },
   "file_extension": ".py",
   "mimetype": "text/x-python",
   "name": "python",
   "nbconvert_exporter": "python",
   "pygments_lexer": "ipython3",
   "version": "3.8.5-final"
  }
 },
 "nbformat": 4,
 "nbformat_minor": 1
}