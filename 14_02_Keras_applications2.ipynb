{
 "cells": [
  {
   "cell_type": "markdown",
   "metadata": {},
   "source": [
    "# 部分採用，擷取特徵\n",
    "模型部分採用：只擷取特徵，不作辨識。\n",
    "\n",
    "- model = VGG16(weights='imagenet', include_top=False) 的 include_top=False 表不含後三層(辨識層)。\n",
    "- 使用 model.summary() 可以比較 include_top=True 的差別。少三層：一層Flatten、二層 Dense。\n",
    "- 最後得到的特徵維度為 (1, 7, 7, 512)，因為最後一層的 Feature Map 寬高為 (7, 7)，output 為 512 個神經元。"
   ]
  },
  {
   "cell_type": "code",
   "execution_count": 1,
   "metadata": {},
   "outputs": [],
   "source": [
    "# 限制 GPU 記憶體用量\n",
    "import tensorflow as tf\n",
    "gpus = tf.config.experimental.list_physical_devices('GPU')\n",
    "tf.config.experimental.set_virtual_device_configuration(\n",
    "          gpus[0], [tf.config.experimental.VirtualDeviceConfiguration(memory_limit=4000)])"
   ]
  },
  {
   "cell_type": "code",
   "execution_count": 2,
   "metadata": {},
   "outputs": [],
   "source": [
    "from tensorflow.keras.applications.vgg16 import VGG16\n",
    "from tensorflow.keras.preprocessing import image\n",
    "from tensorflow.keras.applications.vgg16 import preprocess_input\n",
    "import numpy as np\n",
    "\n",
    "# 預先訓練好的模型 -- VGG16, 不含後三層(辨識層)\n",
    "model = VGG16(weights='imagenet', include_top=False)\n",
    "\n",
    "# 任意一張圖片，例如大象\n",
    "img_path = './images/elephant.jpg'\n",
    "# 載入圖檔，並縮放寬高為 (224, 224) \n",
    "img = image.load_img(img_path, target_size=(224, 224))\n",
    "# 加一維，變成 (1, 224, 224, 3)，最後一維是色彩\n",
    "x = image.img_to_array(img)\n",
    "x = np.expand_dims(x, axis=0)\n",
    "x = preprocess_input(x)\n",
    "\n",
    "features = model.predict(x)"
   ]
  },
  {
   "cell_type": "code",
   "execution_count": 3,
   "metadata": {},
   "outputs": [
    {
     "output_type": "stream",
     "name": "stdout",
     "text": [
      "Model: \"vgg16\"\n_________________________________________________________________\nLayer (type)                 Output Shape              Param #   \n=================================================================\ninput_1 (InputLayer)         [(None, None, None, 3)]   0         \n_________________________________________________________________\nblock1_conv1 (Conv2D)        (None, None, None, 64)    1792      \n_________________________________________________________________\nblock1_conv2 (Conv2D)        (None, None, None, 64)    36928     \n_________________________________________________________________\nblock1_pool (MaxPooling2D)   (None, None, None, 64)    0         \n_________________________________________________________________\nblock2_conv1 (Conv2D)        (None, None, None, 128)   73856     \n_________________________________________________________________\nblock2_conv2 (Conv2D)        (None, None, None, 128)   147584    \n_________________________________________________________________\nblock2_pool (MaxPooling2D)   (None, None, None, 128)   0         \n_________________________________________________________________\nblock3_conv1 (Conv2D)        (None, None, None, 256)   295168    \n_________________________________________________________________\nblock3_conv2 (Conv2D)        (None, None, None, 256)   590080    \n_________________________________________________________________\nblock3_conv3 (Conv2D)        (None, None, None, 256)   590080    \n_________________________________________________________________\nblock3_pool (MaxPooling2D)   (None, None, None, 256)   0         \n_________________________________________________________________\nblock4_conv1 (Conv2D)        (None, None, None, 512)   1180160   \n_________________________________________________________________\nblock4_conv2 (Conv2D)        (None, None, None, 512)   2359808   \n_________________________________________________________________\nblock4_conv3 (Conv2D)        (None, None, None, 512)   2359808   \n_________________________________________________________________\nblock4_pool (MaxPooling2D)   (None, None, None, 512)   0         \n_________________________________________________________________\nblock5_conv1 (Conv2D)        (None, None, None, 512)   2359808   \n_________________________________________________________________\nblock5_conv2 (Conv2D)        (None, None, None, 512)   2359808   \n_________________________________________________________________\nblock5_conv3 (Conv2D)        (None, None, None, 512)   2359808   \n_________________________________________________________________\nblock5_pool (MaxPooling2D)   (None, None, None, 512)   0         \n=================================================================\nTotal params: 14,714,688\nTrainable params: 14,714,688\nNon-trainable params: 0\n_________________________________________________________________\n"
     ]
    }
   ],
   "source": [
    "model.summary()"
   ]
  },
  {
   "cell_type": "code",
   "execution_count": 4,
   "metadata": {},
   "outputs": [
    {
     "output_type": "stream",
     "name": "stdout",
     "text": [
      "Model: \"vgg16\"\n_________________________________________________________________\nLayer (type)                 Output Shape              Param #   \n=================================================================\ninput_2 (InputLayer)         [(None, 224, 224, 3)]     0         \n_________________________________________________________________\nblock1_conv1 (Conv2D)        (None, 224, 224, 64)      1792      \n_________________________________________________________________\nblock1_conv2 (Conv2D)        (None, 224, 224, 64)      36928     \n_________________________________________________________________\nblock1_pool (MaxPooling2D)   (None, 112, 112, 64)      0         \n_________________________________________________________________\nblock2_conv1 (Conv2D)        (None, 112, 112, 128)     73856     \n_________________________________________________________________\nblock2_conv2 (Conv2D)        (None, 112, 112, 128)     147584    \n_________________________________________________________________\nblock2_pool (MaxPooling2D)   (None, 56, 56, 128)       0         \n_________________________________________________________________\nblock3_conv1 (Conv2D)        (None, 56, 56, 256)       295168    \n_________________________________________________________________\nblock3_conv2 (Conv2D)        (None, 56, 56, 256)       590080    \n_________________________________________________________________\nblock3_conv3 (Conv2D)        (None, 56, 56, 256)       590080    \n_________________________________________________________________\nblock3_pool (MaxPooling2D)   (None, 28, 28, 256)       0         \n_________________________________________________________________\nblock4_conv1 (Conv2D)        (None, 28, 28, 512)       1180160   \n_________________________________________________________________\nblock4_conv2 (Conv2D)        (None, 28, 28, 512)       2359808   \n_________________________________________________________________\nblock4_conv3 (Conv2D)        (None, 28, 28, 512)       2359808   \n_________________________________________________________________\nblock4_pool (MaxPooling2D)   (None, 14, 14, 512)       0         \n_________________________________________________________________\nblock5_conv1 (Conv2D)        (None, 14, 14, 512)       2359808   \n_________________________________________________________________\nblock5_conv2 (Conv2D)        (None, 14, 14, 512)       2359808   \n_________________________________________________________________\nblock5_conv3 (Conv2D)        (None, 14, 14, 512)       2359808   \n_________________________________________________________________\nblock5_pool (MaxPooling2D)   (None, 7, 7, 512)         0         \n_________________________________________________________________\nflatten (Flatten)            (None, 25088)             0         \n_________________________________________________________________\nfc1 (Dense)                  (None, 4096)              102764544 \n_________________________________________________________________\nfc2 (Dense)                  (None, 4096)              16781312  \n_________________________________________________________________\npredictions (Dense)          (None, 1000)              4097000   \n=================================================================\nTotal params: 138,357,544\nTrainable params: 138,357,544\nNon-trainable params: 0\n_________________________________________________________________\n"
     ]
    }
   ],
   "source": [
    "model2 = VGG16(weights='imagenet', include_top=True)\n",
    "model2.summary()"
   ]
  },
  {
   "cell_type": "code",
   "execution_count": 5,
   "metadata": {},
   "outputs": [
    {
     "output_type": "stream",
     "name": "stdout",
     "text": [
      "[[[[ 0.         0.         0.        ...  0.         0.\n     0.       ]\n   [ 0.         0.        41.877     ...  0.         0.\n     0.       ]\n   [ 1.0922072  0.        22.865     ...  0.         0.\n     0.       ]\n   ...\n   [ 0.         0.         0.        ...  0.         0.\n     0.       ]\n   [ 0.         0.         0.        ...  0.         0.\n     0.       ]\n   [ 0.         0.         0.        ...  0.         0.\n     0.       ]]\n\n  [[ 0.         0.        36.385128  ...  0.         0.\n     3.2606556]\n   [ 0.         0.        80.499245  ...  8.4254465  0.\n     0.       ]\n   [ 0.         0.        48.482693  ...  0.         0.\n     0.       ]\n   ...\n   [ 0.         0.         0.        ...  4.3430004  0.\n     0.       ]\n   [ 0.         0.         0.        ...  0.         0.\n     0.       ]\n   [ 0.         0.         0.        ...  0.         0.\n     0.       ]]\n\n  [[ 0.         0.        10.000868  ...  0.         0.\n     2.2095578]\n   [ 0.         0.        25.23596   ... 42.2171     0.\n    15.628261 ]\n   [ 0.         0.         0.        ... 25.986712   2.3296382\n     0.       ]\n   ...\n   [ 0.         0.         0.        ...  4.501155   0.\n     0.       ]\n   [ 0.         0.         0.        ...  0.         0.\n     0.       ]\n   [ 0.         0.         0.        ...  0.         0.\n     0.       ]]\n\n  ...\n\n  [[ 0.         0.         0.        ...  0.         0.\n     0.       ]\n   [ 0.         0.         0.        ...  0.         0.\n     0.       ]\n   [ 0.         0.        12.250805  ...  0.         0.\n     0.       ]\n   ...\n   [ 0.         0.        22.419256  ...  0.         0.\n     0.       ]\n   [ 0.         0.         0.        ...  0.         0.\n     0.       ]\n   [ 0.         0.         0.        ...  0.         0.\n     0.       ]]\n\n  [[ 0.         0.         0.        ...  0.         0.\n     0.       ]\n   [ 0.         0.         0.        ...  0.         0.\n     0.       ]\n   [ 0.         0.         0.        ...  0.         0.\n     0.       ]\n   ...\n   [ 0.         0.        10.478296  ...  0.         0.\n     0.       ]\n   [ 0.         0.         0.        ...  0.         0.\n     0.       ]\n   [ 0.         0.         0.        ...  0.         0.\n     0.       ]]\n\n  [[ 0.         0.         0.        ...  0.         0.\n     0.       ]\n   [ 0.         0.         0.        ...  0.         0.\n     0.       ]\n   [ 0.         0.         0.5725661 ...  0.         0.\n     0.       ]\n   ...\n   [ 0.         0.         0.        ...  0.         0.\n     0.       ]\n   [ 0.         0.         0.        ...  0.         0.\n     0.       ]\n   [ 0.         0.         0.        ...  0.         0.\n     0.       ]]]]\n"
     ]
    }
   ],
   "source": [
    "print(features)"
   ]
  },
  {
   "cell_type": "code",
   "execution_count": 6,
   "metadata": {},
   "outputs": [
    {
     "output_type": "stream",
     "name": "stdout",
     "text": [
      "(1, 7, 7, 512)\n"
     ]
    }
   ],
   "source": [
    "print(features.shape)"
   ]
  },
  {
   "cell_type": "markdown",
   "metadata": {},
   "source": [
    "# 使用 cosine_similarity 比較特徵向量"
   ]
  },
  {
   "cell_type": "code",
   "execution_count": 7,
   "metadata": {},
   "outputs": [
    {
     "output_type": "execute_result",
     "data": {
      "text/plain": [
       "array(['bird01.jpg', 'elephant.jpg', 'elephant2.jpg', 'input.jpg',\n",
       "       'style.jpg', 'Tiger.jpg', 'Tiger2.jpg', 'Tiger3.jpg',\n",
       "       'with-mask.jpg', 'without-mask.jpg', '太陽花.jpg'], dtype='<U16')"
      ]
     },
     "metadata": {},
     "execution_count": 7
    }
   ],
   "source": [
    "from os import listdir\n",
    "from os.path import isfile, join\n",
    "\n",
    "# 讀取 images 目錄下所有圖檔\n",
    "img_path = './images/'\n",
    "image_files = np.array([f for f in listdir(img_path) if isfile(join(img_path, f)) and f[-3:] == 'jpg'])\n",
    "image_files"
   ]
  },
  {
   "cell_type": "code",
   "execution_count": 8,
   "metadata": {},
   "outputs": [
    {
     "output_type": "execute_result",
     "data": {
      "text/plain": [
       "((11, 7, 7, 512), (11, 224, 224, 3))"
      ]
     },
     "metadata": {},
     "execution_count": 8
    }
   ],
   "source": [
    "# 每個圖檔經過預測，取得特徵向量\n",
    "import numpy as np\n",
    "\n",
    "X = np.array([])\n",
    "# 合併每個圖檔的像素\n",
    "for f in image_files:\n",
    "    image_file = join(img_path, f)\n",
    "    # 載入圖檔，並縮放寬高為 (224, 224) \n",
    "    img = image.load_img(image_file, target_size=(224, 224))\n",
    "    # 加一維，變成 (1, 224, 224, 3)，最後一維是色彩\n",
    "    img2 = image.img_to_array(img)\n",
    "    img2 = np.expand_dims(img2, axis=0)\n",
    "    if len(X.shape) == 1:\n",
    "        X = img2\n",
    "    else:\n",
    "        X = np.concatenate((X, img2), axis=0)\n",
    "\n",
    "X = preprocess_input(X)\n",
    "\n",
    "# 預測\n",
    "features = model.predict(X)\n",
    "\n",
    "features.shape, X.shape"
   ]
  },
  {
   "cell_type": "code",
   "execution_count": 12,
   "metadata": {},
   "outputs": [
    {
     "output_type": "stream",
     "name": "stdout",
     "text": [
      "(11, 25088)\nTiger3.jpg\n[0.31442708 0.2666164  0.12536138 0.09697835 0.07170606 0.04489492\n 0.04210067]\n"
     ]
    },
    {
     "output_type": "execute_result",
     "data": {
      "text/plain": [
       "array(['Tiger.jpg', 'Tiger2.jpg', 'style.jpg', 'elephant.jpg',\n",
       "       'elephant2.jpg', 'input.jpg', 'bird01.jpg'], dtype='<U16')"
      ]
     },
     "metadata": {},
     "execution_count": 12
    }
   ],
   "source": [
    "# 使用 cosine_similarity 比較特徵向量\n",
    "from sklearn.metrics.pairwise import cosine_similarity\n",
    "\n",
    "features2 = features.reshape((features.shape[0], -1))\n",
    "print(features2.shape)\n",
    "# 比較對象：Tiger3.jpg\n",
    "no=-4\n",
    "print(image_files[no])\n",
    "similar_list = cosine_similarity(features2[no:no+1], features2[:no], dense_output=False)\n",
    "print(np.sort(similar_list[0])[::-1])\n",
    "image_files[:no][np.argsort(similar_list[0])[::-1]]"
   ]
  },
  {
   "cell_type": "code",
   "execution_count": 15,
   "metadata": {},
   "outputs": [
    {
     "output_type": "stream",
     "name": "stdout",
     "text": [
      "elephant.jpg\n[0.2941918  0.1914222  0.15632682 0.09697835 0.07013359 0.04092815\n 0.03696896 0.02463236 0.02058096]\n"
     ]
    },
    {
     "output_type": "execute_result",
     "data": {
      "text/plain": [
       "array(['elephant2.jpg', 'Tiger2.jpg', 'Tiger.jpg', 'Tiger3.jpg',\n",
       "       'style.jpg', 'with-mask.jpg', '太陽花.jpg', 'input.jpg',\n",
       "       'without-mask.jpg'], dtype='<U16')"
      ]
     },
     "metadata": {},
     "execution_count": 15
    }
   ],
   "source": [
    "# 比較對象：elephant.jpg\n",
    "no=1\n",
    "print(image_files[no])\n",
    "similar_list = cosine_similarity(features2[no:no+1], features2[no+1:], dense_output=False)\n",
    "print(np.sort(similar_list[0])[::-1])\n",
    "image_files[no+1:][np.argsort(similar_list[0])[::-1]]"
   ]
  },
  {
   "cell_type": "code",
   "execution_count": null,
   "metadata": {},
   "outputs": [],
   "source": []
  }
 ],
 "metadata": {
  "kernelspec": {
   "name": "python3",
   "display_name": "Python 3.8.5 64-bit ('tf': conda)",
   "metadata": {
    "interpreter": {
     "hash": "5e61f42cb8918a69a5fd4699f126ba1b36015307b65c3d7b25dba18894b1b545"
    }
   }
  },
  "language_info": {
   "codemirror_mode": {
    "name": "ipython",
    "version": 3
   },
   "file_extension": ".py",
   "mimetype": "text/x-python",
   "name": "python",
   "nbconvert_exporter": "python",
   "pygments_lexer": "ipython3",
   "version": "3.8.5-final"
  }
 },
 "nbformat": 4,
 "nbformat_minor": 4
}