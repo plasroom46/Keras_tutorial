{
 "cells": [
  {
   "cell_type": "markdown",
   "metadata": {
    "id": "mm4D1f4MOGWd"
   },
   "source": [
    "# 使用雙向(Bidirectional)LSTM進行影評資料(IMDB)分類"
   ]
  },
  {
   "cell_type": "markdown",
   "metadata": {
    "id": "ET_qNnAkOGWe"
   },
   "source": [
    "## 程式參考來源：\n",
    "- https://keras.io/examples/nlp/bidirectional_lstm_imdb/\n",
    "\n",
    "Keras 內建資料集 IMDB 為整數向量，事先已將文字轉為數字，一般原始資料應為文字"
   ]
  },
  {
   "source": [
    "- 文字分類(Text Classification)：影評情緒分析(Sentiment Analysis)。\n",
    "- 翻譯(Text Translation)：英文轉中文。"
   ],
   "cell_type": "markdown",
   "metadata": {}
  },
  {
   "cell_type": "code",
   "execution_count": 1,
   "metadata": {
    "id": "Y0JGbuboOGWf"
   },
   "outputs": [],
   "source": [
    "# 載入套件及參數設定。\n",
    "import numpy as np\n",
    "from tensorflow import keras\n",
    "from tensorflow.keras import layers\n",
    "\n",
    "# 只考慮 20000 個字彙\n",
    "max_features = 20000  \n",
    "\n",
    "# 每則影評只考慮前 200 個字\n",
    "maxlen = 200  \n"
   ]
  },
  {
   "cell_type": "markdown",
   "metadata": {
    "id": "EeYKm5SeOGWi"
   },
   "source": [
    "## 建立模型"
   ]
  },
  {
   "cell_type": "code",
   "execution_count": 2,
   "metadata": {
    "id": "bE9XiUGbOGWi"
   },
   "outputs": [
    {
     "output_type": "stream",
     "name": "stdout",
     "text": [
      "Model: \"functional_1\"\n_________________________________________________________________\nLayer (type)                 Output Shape              Param #   \n=================================================================\ninput_1 (InputLayer)         [(None, None)]            0         \n_________________________________________________________________\nembedding (Embedding)        (None, None, 128)         2560000   \n_________________________________________________________________\nbidirectional (Bidirectional (None, None, 128)         98816     \n_________________________________________________________________\nbidirectional_1 (Bidirection (None, 128)               98816     \n_________________________________________________________________\ndense (Dense)                (None, 1)                 129       \n=================================================================\nTotal params: 2,757,761\nTrainable params: 2,757,761\nNon-trainable params: 0\n_________________________________________________________________\n"
     ]
    }
   ],
   "source": [
    "# 可輸入不定長度的整數陣列\n",
    "inputs = keras.Input(shape=(None,), dtype=\"int32\")\n",
    "\n",
    "x = layers.Embedding(max_features, 128)(inputs)\n",
    "# 使用 2 個 bidirectional LSTM\n",
    "x = layers.Bidirectional(layers.LSTM(64, return_sequences=True))(x)\n",
    "x = layers.Bidirectional(layers.LSTM(64))(x)\n",
    "# 分類\n",
    "outputs = layers.Dense(1, activation=\"sigmoid\")(x)\n",
    "model = keras.Model(inputs, outputs)\n",
    "model.summary()\n"
   ]
  },
  {
   "cell_type": "markdown",
   "metadata": {
    "id": "oZM7vTPLOGWl"
   },
   "source": [
    "## 載入IMDB資料集 "
   ]
  },
  {
   "cell_type": "code",
   "execution_count": 3,
   "metadata": {
    "id": "950k98THOGWl"
   },
   "outputs": [
    {
     "output_type": "stream",
     "name": "stdout",
     "text": [
      "訓練資料筆數：25000\n測試資料筆數：25000\n"
     ]
    }
   ],
   "source": [
    "(x_train, y_train), (x_test, y_test) = keras.datasets.imdb.load_data(\n",
    "    num_words=max_features\n",
    ")\n",
    "print(f'訓練資料筆數：{len(x_train)}')\n",
    "print(f'測試資料筆數：{len(x_test)}')\n",
    "\n",
    "# 不足長度，後面補0\n",
    "x_train = keras.preprocessing.sequence.pad_sequences(x_train, maxlen=maxlen)\n",
    "x_test = keras.preprocessing.sequence.pad_sequences(x_test, maxlen=maxlen)\n"
   ]
  },
  {
   "cell_type": "markdown",
   "metadata": {
    "id": "pTWUs_XUOGWn"
   },
   "source": [
    "## 訓練模型"
   ]
  },
  {
   "cell_type": "code",
   "execution_count": 4,
   "metadata": {
    "id": "LZ2ID-lEOGWo"
   },
   "outputs": [
    {
     "output_type": "stream",
     "name": "stdout",
     "text": [
      "Epoch 1/2\n",
      "625/625 [==============================] - 30s 48ms/step - loss: 0.4231 - accuracy: 0.8037 - val_loss: 0.3142 - val_accuracy: 0.8754\n",
      "Epoch 2/2\n",
      "625/625 [==============================] - 29s 46ms/step - loss: 0.2145 - accuracy: 0.9212 - val_loss: 0.3310 - val_accuracy: 0.8782\n"
     ]
    },
    {
     "output_type": "execute_result",
     "data": {
      "text/plain": [
       "<tensorflow.python.keras.callbacks.History at 0x2a1a18724f0>"
      ]
     },
     "metadata": {},
     "execution_count": 4
    }
   ],
   "source": [
    "model.compile(\"adam\", \"binary_crossentropy\", metrics=[\"accuracy\"])\n",
    "model.fit(x_train, y_train, batch_size=32, epochs=2, validation_split=0.2)\n"
   ]
  },
  {
   "cell_type": "markdown",
   "metadata": {},
   "source": [
    "## 模型評估"
   ]
  },
  {
   "cell_type": "code",
   "execution_count": 5,
   "metadata": {},
   "outputs": [
    {
     "output_type": "stream",
     "name": "stdout",
     "text": [
      "782/782 [==============================] - 9s 12ms/step - loss: 0.3551 - accuracy: 0.8646\n"
     ]
    },
    {
     "output_type": "execute_result",
     "data": {
      "text/plain": [
       "[0.3551137447357178, 0.8645600080490112]"
      ]
     },
     "metadata": {},
     "execution_count": 5
    }
   ],
   "source": [
    "model.evaluate(x_test, y_test)"
   ]
  }
 ],
 "metadata": {
  "colab": {
   "collapsed_sections": [],
   "name": "bidirectional_lstm_imdb",
   "provenance": [],
   "toc_visible": true
  },
  "kernelspec": {
   "name": "python3",
   "display_name": "Python 3.8.5 64-bit ('tf': conda)",
   "metadata": {
    "interpreter": {
     "hash": "5e61f42cb8918a69a5fd4699f126ba1b36015307b65c3d7b25dba18894b1b545"
    }
   }
  },
  "language_info": {
   "codemirror_mode": {
    "name": "ipython",
    "version": 3
   },
   "file_extension": ".py",
   "mimetype": "text/x-python",
   "name": "python",
   "nbconvert_exporter": "python",
   "pygments_lexer": "ipython3",
   "version": "3.8.5-final"
  }
 },
 "nbformat": 4,
 "nbformat_minor": 1
}